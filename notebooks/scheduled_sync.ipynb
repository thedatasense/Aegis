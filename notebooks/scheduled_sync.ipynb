{
 "cells": [
  {
   "cell_type": "markdown",
   "metadata": {},
   "source": [
    "# Aegis Scheduled Sync (Strava + TickTick)\n\n",
    "This notebook performs a one-shot sync of Strava activities and TickTick tasks into the configured PostgreSQL database.\n\n",
    "Environment is read from `.env` at the repo root. It can be executed manually, or scheduled via a job runner (e.g., `cron` using `papermill` / `jupyter nbconvert`).\n"
   ]
  },
  {
   "cell_type": "code",
   "execution_count": null,
   "metadata": {
    "tags": [
     "parameters"
    ]
   },
   "outputs": [],
   "source": [
    "# Parameters (can be overridden by environment variables when scheduled)\n",
    "STRAVA_PER_PAGE = int(os.getenv('STRAVA_PER_PAGE', '200'))\n",
    "STRAVA_PAGE_START = int(os.getenv('STRAVA_PAGE_START', '1'))\n",
    "# If set, only fetch Strava activities after this epoch seconds\n",
    "STRAVA_AFTER_EPOCH = os.getenv('STRAVA_AFTER_EPOCH')\n",
    "# Optional: comma-separated TickTick project IDs to sync; if empty, sync all\n",
    "TICKTICK_PROJECT_IDS = os.getenv('TICKTICK_PROJECT_IDS', '').strip()\n"
   ]
  },
  {
   "cell_type": "code",
   "execution_count": null,
   "metadata": {},
   "outputs": [],
   "source": [
    "# Setup: path, env, and schema\n",
    "import os, sys, pathlib\n",
    "from dotenv import load_dotenv\n",
    "\n",
    "repo_root = pathlib.Path().resolve()\n",
    "if (repo_root / 'app').exists():\n",
    "    sys.path.insert(0, str(repo_root))\n",
    "\n",
    "# Load .env so notebook runs outside FastAPI lifecycle\n",
    "load_dotenv(override=False)\n",
    "\n",
    "# Initialize schema (safe if already present) and test DB connection\n",
    "from app.db import init_schema, db, get_db_url\n",
    "init_schema()\n",
    "print('DB URL present:', bool(os.getenv('DATABASE_URL')))\n",
    "try:\n",
    "    with db() as conn:\n",
    "        with conn.cursor() as cur:\n",
    "            cur.execute('select 1 as ok')\n",
    "            print('DB connect test:', cur.fetchone()['ok'] == 1)\n",
    "except Exception as e:\n",
    "    print('DB connect error:', e)\n"
   ]
  },
  {
   "cell_type": "code",
   "execution_count": null,
   "metadata": {},
   "outputs": [],
   "source": [
    "# Strava sync\n",
    "from app.strava import fetch_all_activities, upsert_activities\n",
    "\n",
    "after_val = None\n",
    "if STRAVA_AFTER_EPOCH and STRAVA_AFTER_EPOCH.strip():\n",
    "    try:\n",
    "        after_val = int(STRAVA_AFTER_EPOCH)\n",
    "    except Exception:\n",
    "        print('Warning: invalid STRAVA_AFTER_EPOCH; ignoring')\n",
    "\n",
    "strava_fetched = []\n",
    "strava_upserted = 0\n",
    "try:\n",
    "    strava_fetched = fetch_all_activities(per_page=STRAVA_PER_PAGE, page_start=STRAVA_PAGE_START, after=after_val)\n",
    "    strava_upserted = upsert_activities(strava_fetched)\n",
    "    print({'strava_activities_fetched': len(strava_fetched), 'strava_activities_upserted': strava_upserted})\n",
    "except Exception as e:\n",
    "    print('Strava sync error:', e)\n"
   ]
  },
  {
   "cell_type": "code",
   "execution_count": null,
   "metadata": {},
   "outputs": [],
   "source": [
    "# TickTick sync (all projects or a specified list)\n",
    "from app.ticktick import list_projects as tt_list_projects, get_project_tasks as tt_get_tasks, upsert_tasks as tt_upsert\n",
    "\n",
    "ticktick_projects = []\n",
    "ticktick_tasks_upserted = 0\n",
    "try:\n",
    "    if TICKTICK_PROJECT_IDS:\n",
    "        ids = [p.strip() for p in TICKTICK_PROJECT_IDS.split(',') if p.strip()]\n",
    "        ticktick_projects = [{'id': pid, 'name': pid} for pid in ids]\n",
    "    else:\n",
    "        ticktick_projects = tt_list_projects()\n",
    "    for p in ticktick_projects:\n",
    "        pid = p.get('id') if isinstance(p, dict) else None\n",
    "        if not pid:\n",
    "            continue\n",
    "        tasks = tt_get_tasks(pid)\n",
    "        ticktick_tasks_upserted += tt_upsert(tasks)\n",
    "    print({'ticktick_projects': len(ticktick_projects), 'ticktick_tasks_upserted': ticktick_tasks_upserted})\n",
    "except Exception as e:\n",
    "    print('TickTick sync error:', e)\n"
   ]
  },
  {
   "cell_type": "code",
   "execution_count": null,
   "metadata": {},
   "outputs": [],
   "source": [
    "# Summary\n",
    "summary = {\n",
    "    'strava_activities_fetched': len(strava_fetched) if isinstance(strava_fetched, list) else None,\n",
    "    'strava_activities_upserted': strava_upserted,\n",
    "    'ticktick_projects_processed': len(ticktick_projects) if isinstance(ticktick_projects, list) else None,\n",
    "    'ticktick_tasks_upserted': ticktick_tasks_upserted,\n",
    "}\n",
    "print(summary)\n"
   ]
  },
  {
   "cell_type": "markdown",
   "metadata": {},
   "source": [
    "## Scheduling\n\n",
    "You can schedule this notebook using any runner that can execute notebooks. Two common options:\n\n",
    "- papermill (recommended):\n",
    "  - Install: `pip install papermill`\n",
    "  - Cron example: `papermill notebooks/scheduled_sync.ipynb /tmp/scheduled_sync_out.ipynb`\n",
    "- jupyter nbconvert (execute):\n",
    "  - Install: `pip install jupyter`\n",
    "  - Cron example: `jupyter nbconvert --to notebook --execute notebooks/scheduled_sync.ipynb --output /tmp/scheduled_sync_out.ipynb`\n\n",
    "Set environment variables for parameters as needed (e.g. in crontab or systemd unit):\n\n",
    "- `DATABASE_URL` (required)\n",
    "- `STRAVA_CLIENT_ID`, `STRAVA_CLIENT_SECRET`, `STRAVA_REFRESH_TOKEN` (or use stored token)\n",
    "- `TICKTICK_CLIENT_ID`, `TICKTICK_CLIENT_SECRET`, `TICKTICK_REFRESH_TOKEN` (or use stored token)\n",
    "- Optional: `STRAVA_PER_PAGE`, `STRAVA_PAGE_START`, `STRAVA_AFTER_EPOCH`, `TICKTICK_PROJECT_IDS`\n\n",
    "If running from the repo root, `.env` is loaded automatically."
   ]
  }
 ],
 "metadata": {
  "kernelspec": {
   "display_name": "Python 3",
   "language": "python",
   "name": "python3"
  },
  "language_info": {
   "name": "python",
   "version": "3"
  }
 },
 "nbformat": 4,
 "nbformat_minor": 5
}

